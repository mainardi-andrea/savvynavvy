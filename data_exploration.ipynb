{
 "cells": [
  {
   "cell_type": "code",
   "execution_count": 1,
   "id": "2b7bb2b3-8e27-458d-9c22-8d2f81188874",
   "metadata": {},
   "outputs": [],
   "source": [
    "import pandas as pd\n",
    "from gpxcsv import gpxtolist\n",
    "from pathlib import Path\n",
    "from config import config"
   ]
  },
  {
   "cell_type": "markdown",
   "id": "c1fbb5ca-0205-47d3-984b-6a708d76b33e",
   "metadata": {},
   "source": [
    "Defining a couple of functions to glob the gpx files and read them to a pandas dataframe"
   ]
  },
  {
   "cell_type": "code",
   "execution_count": 4,
   "id": "e7655490-d89c-4d6d-a354-6729ba5a6c66",
   "metadata": {},
   "outputs": [],
   "source": [
    "def glob_files(folder: str) -> list:\n",
    "    '''\n",
    "    Returns a list of all the gpx files in the input folder\n",
    "    '''\n",
    "    \n",
    "    gpx_folder = Path(folder)\n",
    "\n",
    "    return [x for x in gpx_folder.glob('*.gpx')]\n",
    "\n",
    "def gpxs_to_df(filelist: list) -> pd.DataFrame:\n",
    "    '''\n",
    "    iterates through the filelist and appends all the data to a dataframe\n",
    "    '''\n",
    "    \n",
    "    df = pd.DataFrame()\n",
    "    \n",
    "    for filepath in filelist:\n",
    "        temp_df = pd.DataFrame(gpxtolist(str(filepath)))\n",
    "        df = pd.concat([df, temp_df], ignore_index=True)\n",
    "        \n",
    "    return df"
   ]
  },
  {
   "cell_type": "markdown",
   "id": "98d2de8e-9c1c-4ecf-8313-61985c80ee8d",
   "metadata": {},
   "source": [
    "Running the functions and checking the resulting dataframe"
   ]
  },
  {
   "cell_type": "code",
   "execution_count": 5,
   "id": "c6fccc9a-1913-402d-8bf2-5e7fb08b128b",
   "metadata": {},
   "outputs": [
    {
     "data": {
      "text/html": [
       "<div>\n",
       "<style scoped>\n",
       "    .dataframe tbody tr th:only-of-type {\n",
       "        vertical-align: middle;\n",
       "    }\n",
       "\n",
       "    .dataframe tbody tr th {\n",
       "        vertical-align: top;\n",
       "    }\n",
       "\n",
       "    .dataframe thead th {\n",
       "        text-align: right;\n",
       "    }\n",
       "</style>\n",
       "<table border=\"1\" class=\"dataframe\">\n",
       "  <thead>\n",
       "    <tr style=\"text-align: right;\">\n",
       "      <th></th>\n",
       "      <th>lat</th>\n",
       "      <th>lon</th>\n",
       "      <th>speed</th>\n",
       "      <th>course</th>\n",
       "      <th>time</th>\n",
       "    </tr>\n",
       "  </thead>\n",
       "  <tbody>\n",
       "    <tr>\n",
       "      <th>0</th>\n",
       "      <td>50.721499</td>\n",
       "      <td>-1.997310</td>\n",
       "      <td>2.810000</td>\n",
       "      <td>234.140625</td>\n",
       "      <td>2022-06-27T19:04:08.368Z</td>\n",
       "    </tr>\n",
       "    <tr>\n",
       "      <th>1</th>\n",
       "      <td>50.721435</td>\n",
       "      <td>-1.997435</td>\n",
       "      <td>2.840000</td>\n",
       "      <td>227.109375</td>\n",
       "      <td>2022-06-27T19:04:12.456Z</td>\n",
       "    </tr>\n",
       "    <tr>\n",
       "      <th>2</th>\n",
       "      <td>50.721368</td>\n",
       "      <td>-1.997555</td>\n",
       "      <td>2.720000</td>\n",
       "      <td>230.976562</td>\n",
       "      <td>2022-06-27T19:04:16.503Z</td>\n",
       "    </tr>\n",
       "    <tr>\n",
       "      <th>3</th>\n",
       "      <td>50.721306</td>\n",
       "      <td>-1.997672</td>\n",
       "      <td>2.760000</td>\n",
       "      <td>234.843750</td>\n",
       "      <td>2022-06-27T19:04:20.147Z</td>\n",
       "    </tr>\n",
       "    <tr>\n",
       "      <th>4</th>\n",
       "      <td>50.721252</td>\n",
       "      <td>-1.997816</td>\n",
       "      <td>2.880000</td>\n",
       "      <td>240.117188</td>\n",
       "      <td>2022-06-27T19:04:24.174Z</td>\n",
       "    </tr>\n",
       "    <tr>\n",
       "      <th>...</th>\n",
       "      <td>...</td>\n",
       "      <td>...</td>\n",
       "      <td>...</td>\n",
       "      <td>...</td>\n",
       "      <td>...</td>\n",
       "    </tr>\n",
       "    <tr>\n",
       "      <th>107137</th>\n",
       "      <td>50.766310</td>\n",
       "      <td>-1.188248</td>\n",
       "      <td>4.895547</td>\n",
       "      <td>107.131947</td>\n",
       "      <td>2022-09-27T16:06:33.046Z</td>\n",
       "    </tr>\n",
       "    <tr>\n",
       "      <th>107138</th>\n",
       "      <td>50.766292</td>\n",
       "      <td>-1.188096</td>\n",
       "      <td>5.339956</td>\n",
       "      <td>103.700630</td>\n",
       "      <td>2022-09-27T16:06:35.063Z</td>\n",
       "    </tr>\n",
       "    <tr>\n",
       "      <th>107139</th>\n",
       "      <td>50.766281</td>\n",
       "      <td>-1.187933</td>\n",
       "      <td>5.709530</td>\n",
       "      <td>96.992155</td>\n",
       "      <td>2022-09-27T16:06:37.120Z</td>\n",
       "    </tr>\n",
       "    <tr>\n",
       "      <th>107140</th>\n",
       "      <td>50.707670</td>\n",
       "      <td>-1.969139</td>\n",
       "      <td>1.920390</td>\n",
       "      <td>27.523740</td>\n",
       "      <td>2022-04-02T14:03:08.131Z</td>\n",
       "    </tr>\n",
       "    <tr>\n",
       "      <th>107141</th>\n",
       "      <td>50.707709</td>\n",
       "      <td>-1.969011</td>\n",
       "      <td>1.916256</td>\n",
       "      <td>28.235567</td>\n",
       "      <td>2022-04-02T14:03:13.130Z</td>\n",
       "    </tr>\n",
       "  </tbody>\n",
       "</table>\n",
       "<p>107142 rows × 5 columns</p>\n",
       "</div>"
      ],
      "text/plain": [
       "              lat       lon     speed      course                      time\n",
       "0       50.721499 -1.997310  2.810000  234.140625  2022-06-27T19:04:08.368Z\n",
       "1       50.721435 -1.997435  2.840000  227.109375  2022-06-27T19:04:12.456Z\n",
       "2       50.721368 -1.997555  2.720000  230.976562  2022-06-27T19:04:16.503Z\n",
       "3       50.721306 -1.997672  2.760000  234.843750  2022-06-27T19:04:20.147Z\n",
       "4       50.721252 -1.997816  2.880000  240.117188  2022-06-27T19:04:24.174Z\n",
       "...           ...       ...       ...         ...                       ...\n",
       "107137  50.766310 -1.188248  4.895547  107.131947  2022-09-27T16:06:33.046Z\n",
       "107138  50.766292 -1.188096  5.339956  103.700630  2022-09-27T16:06:35.063Z\n",
       "107139  50.766281 -1.187933  5.709530   96.992155  2022-09-27T16:06:37.120Z\n",
       "107140  50.707670 -1.969139  1.920390   27.523740  2022-04-02T14:03:08.131Z\n",
       "107141  50.707709 -1.969011  1.916256   28.235567  2022-04-02T14:03:13.130Z\n",
       "\n",
       "[107142 rows x 5 columns]"
      ]
     },
     "execution_count": 5,
     "metadata": {},
     "output_type": "execute_result"
    }
   ],
   "source": [
    "filelist = glob_files(config[\"gpx_folder\"])\n",
    "\n",
    "df = gpxs_to_df(filelist)\n",
    "\n",
    "df"
   ]
  },
  {
   "cell_type": "code",
   "execution_count": 6,
   "id": "cf1038c2-d21b-4553-90ee-279c6bb6b71e",
   "metadata": {},
   "outputs": [
    {
     "name": "stdout",
     "output_type": "stream",
     "text": [
      "<class 'pandas.core.frame.DataFrame'>\n",
      "RangeIndex: 107142 entries, 0 to 107141\n",
      "Data columns (total 5 columns):\n",
      " #   Column  Non-Null Count   Dtype  \n",
      "---  ------  --------------   -----  \n",
      " 0   lat     107142 non-null  float64\n",
      " 1   lon     107142 non-null  float64\n",
      " 2   speed   107142 non-null  float64\n",
      " 3   course  107142 non-null  float64\n",
      " 4   time    107142 non-null  object \n",
      "dtypes: float64(4), object(1)\n",
      "memory usage: 4.1+ MB\n"
     ]
    }
   ],
   "source": [
    "df.info()"
   ]
  },
  {
   "cell_type": "markdown",
   "id": "6a60c54b-916c-45ad-b06a-745c08fc2470",
   "metadata": {},
   "source": [
    "Having a look at the first 4 colums, looking for outliers"
   ]
  },
  {
   "cell_type": "code",
   "execution_count": 7,
   "id": "5db15f19-03c0-45c9-a3fd-abf73bd5f5af",
   "metadata": {
    "tags": []
   },
   "outputs": [
    {
     "data": {
      "text/plain": [
       "count    107142.000000\n",
       "mean         50.635248\n",
       "std           0.275340\n",
       "min          49.581481\n",
       "25%          50.656247\n",
       "50%          50.733327\n",
       "75%          50.771276\n",
       "max          50.902602\n",
       "Name: lat, dtype: float64"
      ]
     },
     "execution_count": 7,
     "metadata": {},
     "output_type": "execute_result"
    }
   ],
   "source": [
    "df.lat.describe()"
   ]
  },
  {
   "cell_type": "code",
   "execution_count": 8,
   "id": "7a2bfb67-542d-4aba-8ed6-3a1e01ce1a53",
   "metadata": {},
   "outputs": [
    {
     "data": {
      "text/plain": [
       "count    107142.000000\n",
       "mean         -1.257214\n",
       "std           0.462826\n",
       "min          -2.037418\n",
       "25%          -1.619437\n",
       "50%          -1.237366\n",
       "75%          -0.953824\n",
       "max           0.060685\n",
       "Name: lon, dtype: float64"
      ]
     },
     "execution_count": 8,
     "metadata": {},
     "output_type": "execute_result"
    }
   ],
   "source": [
    "df.lon.describe()"
   ]
  },
  {
   "cell_type": "code",
   "execution_count": 9,
   "id": "a05b5408-a3d0-4f84-9cd3-3578964f38e0",
   "metadata": {},
   "outputs": [
    {
     "data": {
      "text/plain": [
       "count    107142.000000\n",
       "mean          3.216125\n",
       "std           1.716835\n",
       "min          -1.000000\n",
       "25%           2.419019\n",
       "50%           3.113813\n",
       "75%           3.640235\n",
       "max          18.450001\n",
       "Name: speed, dtype: float64"
      ]
     },
     "execution_count": 9,
     "metadata": {},
     "output_type": "execute_result"
    }
   ],
   "source": [
    "df.speed.describe()"
   ]
  },
  {
   "cell_type": "code",
   "execution_count": 10,
   "id": "eb180bf3-9622-4c71-ac11-ee962c836db5",
   "metadata": {},
   "outputs": [
    {
     "data": {
      "text/plain": [
       "count    107142.000000\n",
       "mean        170.489783\n",
       "std          91.491364\n",
       "min          -1.000000\n",
       "25%         101.611816\n",
       "50%         160.982765\n",
       "75%         242.933410\n",
       "max         359.999939\n",
       "Name: course, dtype: float64"
      ]
     },
     "execution_count": 10,
     "metadata": {},
     "output_type": "execute_result"
    }
   ],
   "source": [
    "df.course.describe()"
   ]
  },
  {
   "cell_type": "markdown",
   "id": "e8153001-099f-481d-a6f1-67524a637ca1",
   "metadata": {},
   "source": [
    "There doesn't seem to be any outlier in latitude and longitude\n",
    "\n",
    "-1 values in speed and course are suspicious, shouldn't their values be always greater than 0?\n",
    "\n",
    "All entries with speed <0 have value -1, for all of them (329 datapoints) the course also has value -1"
   ]
  },
  {
   "cell_type": "code",
   "execution_count": 11,
   "id": "41e98927-61a4-4778-bdd5-e1b2f23d5b01",
   "metadata": {},
   "outputs": [
    {
     "data": {
      "text/plain": [
       "count    590.000000\n",
       "mean      -0.283467\n",
       "std        1.051606\n",
       "min       -1.000000\n",
       "25%       -1.000000\n",
       "50%       -1.000000\n",
       "75%        0.000000\n",
       "max        4.641315\n",
       "Name: speed, dtype: float64"
      ]
     },
     "execution_count": 11,
     "metadata": {},
     "output_type": "execute_result"
    }
   ],
   "source": [
    "df[(df[\"course\"]<0)].speed.describe()"
   ]
  },
  {
   "cell_type": "markdown",
   "id": "df69f9e0-5aae-4eb4-a961-c537bf63d426",
   "metadata": {},
   "source": [
    "All entries with course <0 have value -1, for some of them (590 datapoints) speed has a positive value\n",
    "\n",
    "I will consider all points with speed or course <0 to be outliers and remove them from the dataframe"
   ]
  },
  {
   "cell_type": "code",
   "execution_count": 12,
   "id": "69329c64-a923-4db8-a51b-fd1bbb8143ec",
   "metadata": {},
   "outputs": [
    {
     "data": {
      "text/plain": [
       "106552"
      ]
     },
     "execution_count": 12,
     "metadata": {},
     "output_type": "execute_result"
    }
   ],
   "source": [
    "df = df[~((df[\"speed\"]<0) | (df[\"course\"]<0))]\n",
    "\n",
    "len(df)"
   ]
  },
  {
   "cell_type": "markdown",
   "id": "3673bcb7-cbe1-42ce-8f7f-d4ba5df043c2",
   "metadata": {},
   "source": [
    "Convert time column datatype to datetime"
   ]
  },
  {
   "cell_type": "code",
   "execution_count": 13,
   "id": "e4fc0421-4e4c-4552-9c14-5faa7554aba4",
   "metadata": {},
   "outputs": [
    {
     "name": "stdout",
     "output_type": "stream",
     "text": [
      "<class 'pandas.core.frame.DataFrame'>\n",
      "Int64Index: 106552 entries, 0 to 107141\n",
      "Data columns (total 5 columns):\n",
      " #   Column  Non-Null Count   Dtype              \n",
      "---  ------  --------------   -----              \n",
      " 0   lat     106552 non-null  float64            \n",
      " 1   lon     106552 non-null  float64            \n",
      " 2   speed   106552 non-null  float64            \n",
      " 3   course  106552 non-null  float64            \n",
      " 4   time    106552 non-null  datetime64[ns, UTC]\n",
      "dtypes: datetime64[ns, UTC](1), float64(4)\n",
      "memory usage: 4.9 MB\n"
     ]
    },
    {
     "name": "stderr",
     "output_type": "stream",
     "text": [
      "C:\\Users\\rrr\\AppData\\Local\\Temp\\ipykernel_4320\\4135829785.py:1: SettingWithCopyWarning: \n",
      "A value is trying to be set on a copy of a slice from a DataFrame.\n",
      "Try using .loc[row_indexer,col_indexer] = value instead\n",
      "\n",
      "See the caveats in the documentation: https://pandas.pydata.org/pandas-docs/stable/user_guide/indexing.html#returning-a-view-versus-a-copy\n",
      "  df.time = pd.to_datetime(df.time)\n"
     ]
    }
   ],
   "source": [
    "df.time = pd.to_datetime(df.time)\n",
    "\n",
    "df.info()"
   ]
  },
  {
   "cell_type": "markdown",
   "id": "ba9b0a81-0660-4c81-b09c-de3624279bc1",
   "metadata": {},
   "source": [
    "Find what percentage of tracks exceeded 10 knots\n",
    "\n",
    "I'm assuming the speed in the gpx files is recorded in m/s, if so then greater than 10 knots means >= 5.15 m/s"
   ]
  },
  {
   "cell_type": "code",
   "execution_count": 18,
   "id": "da04424f-5e19-49a9-81f0-44899c16ca74",
   "metadata": {},
   "outputs": [
    {
     "data": {
      "text/plain": [
       "5.501539154591185"
      ]
     },
     "execution_count": 18,
     "metadata": {},
     "output_type": "execute_result"
    }
   ],
   "source": [
    "100 * len(df[df.speed>=5.15]) / len(df)"
   ]
  },
  {
   "cell_type": "markdown",
   "id": "9a0bfccb-6bc4-4e43-9bc3-e7f4cd8562b4",
   "metadata": {},
   "source": [
    "if the speed in the gpx files is recorded in knots"
   ]
  },
  {
   "cell_type": "code",
   "execution_count": 19,
   "id": "ee7015b5-ec3c-4174-88cf-96897dfdf9e9",
   "metadata": {},
   "outputs": [
    {
     "data": {
      "text/plain": [
       "1.434041594714318"
      ]
     },
     "execution_count": 19,
     "metadata": {},
     "output_type": "execute_result"
    }
   ],
   "source": [
    "100 * len(df[df.speed>10]) / len(df)"
   ]
  }
 ],
 "metadata": {
  "kernelspec": {
   "display_name": "Python 3 (ipykernel)",
   "language": "python",
   "name": "python3"
  },
  "language_info": {
   "codemirror_mode": {
    "name": "ipython",
    "version": 3
   },
   "file_extension": ".py",
   "mimetype": "text/x-python",
   "name": "python",
   "nbconvert_exporter": "python",
   "pygments_lexer": "ipython3",
   "version": "3.10.6"
  }
 },
 "nbformat": 4,
 "nbformat_minor": 5
}
